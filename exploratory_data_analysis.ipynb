{
 "cells": [
  {
   "attachments": {},
   "cell_type": "markdown",
   "metadata": {},
   "source": [
    "## Exploratory Data Analytics"
   ]
  },
  {
   "cell_type": "code",
   "execution_count": 1,
   "metadata": {},
   "outputs": [],
   "source": [
    "# Imports\n",
    "import pandas as pd\n",
    "import os\n",
    "from tools import eda, Exploratory\n",
    "import matplotlib.pyplot as plt"
   ]
  },
  {
   "cell_type": "code",
   "execution_count": 2,
   "metadata": {},
   "outputs": [],
   "source": [
    "# settings\n",
    "data = os.path.join(os.getcwd(), 'data', 'curated')\n",
    "plt.rcParams[\"figure.figsize\"] = (20, 3)\n",
    "plt.style.use('ggplot')\n",
    "pd.set_option(\"display.max_columns\", None)\n",
    "#warnings.simplefilter(action='ignore', category=FutureWarning)\n",
    "exp = Exploratory()"
   ]
  },
  {
   "attachments": {},
   "cell_type": "markdown",
   "metadata": {},
   "source": [
    "### Dados\n",
    "* **id** (*transactions*): identificador único de uma venda;\n",
    "* **productid** (*transactions*): identificador único de um produto;\n",
    "* **clientid** (*transactions*): identificador único de um cliente;\n",
    "* **discount** (*transactions*): desconto aplicado em uma venda;\n",
    "* **unitprice** (*transactions*): preço unitário de um produto vendido;\n",
    "* **quantity** (*transactions*): quantidade de produto vendido em uma venda;\n",
    "* **storeid** (*transactions*): identificador único de uma loja;\n",
    "* **date** (*transactions*): data de uma venda;\n",
    "* **name_product** (*product*): nome de um produto;\n",
    "* **size_product** (*product*): tamanho de um produto;\n",
    "* **city_client** (*client*): cidade/localidade onde um cliente fez a compra;\n",
    "* **state_client** (*client*): Unidade Federativa onde um cliente fez a compra;\n",
    "* **dateofbirth_client** (*client*): data de nascimento de um cliente;\n",
    "* **sex_client** (*client*): sexo de um cliente;\n",
    "* **name_store** (*store*): cidade/localidade de uma loja;\n",
    "* **state_store** (*store*):  Unidade Federativa de uma loja."
   ]
  },
  {
   "cell_type": "code",
   "execution_count": 3,
   "metadata": {},
   "outputs": [
    {
     "name": "stdout",
     "output_type": "stream",
     "text": [
      "(linhas, colunas) : (32753, 16)\n"
     ]
    }
   ],
   "source": [
    "df = pd.read_parquet(os.path.join(data, 'dataset_integration.parquet'))\n",
    "\n",
    "print(f'(linhas, colunas) : {df.shape}')"
   ]
  },
  {
   "attachments": {},
   "cell_type": "markdown",
   "metadata": {},
   "source": [
    "##### Valores iniciais e finais do dataframe"
   ]
  },
  {
   "cell_type": "code",
   "execution_count": 4,
   "metadata": {},
   "outputs": [
    {
     "data": {
      "text/html": [
       "<div>\n",
       "<style scoped>\n",
       "    .dataframe tbody tr th:only-of-type {\n",
       "        vertical-align: middle;\n",
       "    }\n",
       "\n",
       "    .dataframe tbody tr th {\n",
       "        vertical-align: top;\n",
       "    }\n",
       "\n",
       "    .dataframe thead th {\n",
       "        text-align: right;\n",
       "    }\n",
       "</style>\n",
       "<table border=\"1\" class=\"dataframe\">\n",
       "  <thead>\n",
       "    <tr style=\"text-align: right;\">\n",
       "      <th></th>\n",
       "      <th>id</th>\n",
       "      <th>productid</th>\n",
       "      <th>clientid</th>\n",
       "      <th>discount</th>\n",
       "      <th>unitprice</th>\n",
       "      <th>quantity</th>\n",
       "      <th>storeid</th>\n",
       "      <th>date</th>\n",
       "      <th>name_product</th>\n",
       "      <th>size_product</th>\n",
       "      <th>city_client</th>\n",
       "      <th>state_client</th>\n",
       "      <th>dateofbirth_client</th>\n",
       "      <th>sex_client</th>\n",
       "      <th>name_store</th>\n",
       "      <th>state_store</th>\n",
       "    </tr>\n",
       "  </thead>\n",
       "  <tbody>\n",
       "    <tr>\n",
       "      <th>0</th>\n",
       "      <td>80260d682079b6090c8285b398c50d97</td>\n",
       "      <td>002552c0663708129c0019cc97552d7d3</td>\n",
       "      <td>14001</td>\n",
       "      <td>0.08</td>\n",
       "      <td>249.2</td>\n",
       "      <td>1</td>\n",
       "      <td>4</td>\n",
       "      <td>2018-12-10</td>\n",
       "      <td>Tempestade</td>\n",
       "      <td>G</td>\n",
       "      <td>Curitiba</td>\n",
       "      <td>PR</td>\n",
       "      <td>1985-06-28</td>\n",
       "      <td>Homem</td>\n",
       "      <td>Curitiba</td>\n",
       "      <td>PR</td>\n",
       "    </tr>\n",
       "    <tr>\n",
       "      <th>1</th>\n",
       "      <td>3275736da1234f55d52bdf09d86b93bc</td>\n",
       "      <td>001b237c0e9bb435f2e54071129237e93</td>\n",
       "      <td>14001</td>\n",
       "      <td>0.10</td>\n",
       "      <td>162.4</td>\n",
       "      <td>1</td>\n",
       "      <td>4</td>\n",
       "      <td>2019-04-25</td>\n",
       "      <td>Thanos</td>\n",
       "      <td>G</td>\n",
       "      <td>Curitiba</td>\n",
       "      <td>PR</td>\n",
       "      <td>1985-06-28</td>\n",
       "      <td>Homem</td>\n",
       "      <td>Curitiba</td>\n",
       "      <td>PR</td>\n",
       "    </tr>\n",
       "    <tr>\n",
       "      <th>2</th>\n",
       "      <td>f3513eec8f1434b5b7e04ddf3598df40</td>\n",
       "      <td>00066f42aeeb9f3007548bb9d3f33c381</td>\n",
       "      <td>14001</td>\n",
       "      <td>0.10</td>\n",
       "      <td>194.6</td>\n",
       "      <td>1</td>\n",
       "      <td>4</td>\n",
       "      <td>2019-07-17</td>\n",
       "      <td>Capitão América</td>\n",
       "      <td>P</td>\n",
       "      <td>Curitiba</td>\n",
       "      <td>PR</td>\n",
       "      <td>1985-06-28</td>\n",
       "      <td>Homem</td>\n",
       "      <td>Curitiba</td>\n",
       "      <td>PR</td>\n",
       "    </tr>\n",
       "    <tr>\n",
       "      <th>3</th>\n",
       "      <td>7180475b60fe6bbbde424d39704a1177</td>\n",
       "      <td>001b72dfd63e9833e8c02742adf472e33</td>\n",
       "      <td>14002</td>\n",
       "      <td>0.10</td>\n",
       "      <td>201.6</td>\n",
       "      <td>2</td>\n",
       "      <td>1</td>\n",
       "      <td>2018-04-10</td>\n",
       "      <td>Wolverine</td>\n",
       "      <td>G</td>\n",
       "      <td>Florianópolis</td>\n",
       "      <td>SC</td>\n",
       "      <td>1987-01-10</td>\n",
       "      <td>Homem</td>\n",
       "      <td>Florianópolis</td>\n",
       "      <td>SC</td>\n",
       "    </tr>\n",
       "    <tr>\n",
       "      <th>4</th>\n",
       "      <td>76600853a200fe87e141adae6b35674c</td>\n",
       "      <td>00210e41887c2a8ef9f791ebc780cc363</td>\n",
       "      <td>14002</td>\n",
       "      <td>0.10</td>\n",
       "      <td>406.0</td>\n",
       "      <td>1</td>\n",
       "      <td>1</td>\n",
       "      <td>2019-01-21</td>\n",
       "      <td>Naruto</td>\n",
       "      <td>G</td>\n",
       "      <td>Florianópolis</td>\n",
       "      <td>SC</td>\n",
       "      <td>1987-01-10</td>\n",
       "      <td>Homem</td>\n",
       "      <td>Florianópolis</td>\n",
       "      <td>SC</td>\n",
       "    </tr>\n",
       "  </tbody>\n",
       "</table>\n",
       "</div>"
      ],
      "text/plain": [
       "                                 id                          productid  \\\n",
       "0  80260d682079b6090c8285b398c50d97  002552c0663708129c0019cc97552d7d3   \n",
       "1  3275736da1234f55d52bdf09d86b93bc  001b237c0e9bb435f2e54071129237e93   \n",
       "2  f3513eec8f1434b5b7e04ddf3598df40  00066f42aeeb9f3007548bb9d3f33c381   \n",
       "3  7180475b60fe6bbbde424d39704a1177  001b72dfd63e9833e8c02742adf472e33   \n",
       "4  76600853a200fe87e141adae6b35674c  00210e41887c2a8ef9f791ebc780cc363   \n",
       "\n",
       "  clientid  discount  unitprice  quantity storeid       date     name_product  \\\n",
       "0    14001      0.08      249.2         1       4 2018-12-10       Tempestade   \n",
       "1    14001      0.10      162.4         1       4 2019-04-25           Thanos   \n",
       "2    14001      0.10      194.6         1       4 2019-07-17  Capitão América   \n",
       "3    14002      0.10      201.6         2       1 2018-04-10        Wolverine   \n",
       "4    14002      0.10      406.0         1       1 2019-01-21           Naruto   \n",
       "\n",
       "  size_product    city_client state_client dateofbirth_client sex_client  \\\n",
       "0            G       Curitiba           PR         1985-06-28      Homem   \n",
       "1            G       Curitiba           PR         1985-06-28      Homem   \n",
       "2            P       Curitiba           PR         1985-06-28      Homem   \n",
       "3            G  Florianópolis           SC         1987-01-10      Homem   \n",
       "4            G  Florianópolis           SC         1987-01-10      Homem   \n",
       "\n",
       "      name_store state_store  \n",
       "0       Curitiba          PR  \n",
       "1       Curitiba          PR  \n",
       "2       Curitiba          PR  \n",
       "3  Florianópolis          SC  \n",
       "4  Florianópolis          SC  "
      ]
     },
     "execution_count": 4,
     "metadata": {},
     "output_type": "execute_result"
    }
   ],
   "source": [
    "df.head(5)"
   ]
  },
  {
   "cell_type": "code",
   "execution_count": 5,
   "metadata": {},
   "outputs": [
    {
     "data": {
      "text/html": [
       "<div>\n",
       "<style scoped>\n",
       "    .dataframe tbody tr th:only-of-type {\n",
       "        vertical-align: middle;\n",
       "    }\n",
       "\n",
       "    .dataframe tbody tr th {\n",
       "        vertical-align: top;\n",
       "    }\n",
       "\n",
       "    .dataframe thead th {\n",
       "        text-align: right;\n",
       "    }\n",
       "</style>\n",
       "<table border=\"1\" class=\"dataframe\">\n",
       "  <thead>\n",
       "    <tr style=\"text-align: right;\">\n",
       "      <th></th>\n",
       "      <th>id</th>\n",
       "      <th>productid</th>\n",
       "      <th>clientid</th>\n",
       "      <th>discount</th>\n",
       "      <th>unitprice</th>\n",
       "      <th>quantity</th>\n",
       "      <th>storeid</th>\n",
       "      <th>date</th>\n",
       "      <th>name_product</th>\n",
       "      <th>size_product</th>\n",
       "      <th>city_client</th>\n",
       "      <th>state_client</th>\n",
       "      <th>dateofbirth_client</th>\n",
       "      <th>sex_client</th>\n",
       "      <th>name_store</th>\n",
       "      <th>state_store</th>\n",
       "    </tr>\n",
       "  </thead>\n",
       "  <tbody>\n",
       "    <tr>\n",
       "      <th>32748</th>\n",
       "      <td>b155e2a8589d40bc9c0381ee48e3204f</td>\n",
       "      <td>002ec297b1b00fb9dde7ee6ac24b67712</td>\n",
       "      <td>28694</td>\n",
       "      <td>0.08</td>\n",
       "      <td>218.4</td>\n",
       "      <td>1</td>\n",
       "      <td>4</td>\n",
       "      <td>2018-12-02</td>\n",
       "      <td>Bazinga</td>\n",
       "      <td>M</td>\n",
       "      <td>Curitiba</td>\n",
       "      <td>PR</td>\n",
       "      <td>1982-10-22</td>\n",
       "      <td>Homem</td>\n",
       "      <td>Curitiba</td>\n",
       "      <td>PR</td>\n",
       "    </tr>\n",
       "    <tr>\n",
       "      <th>32749</th>\n",
       "      <td>abb71d0110c4be1a1a0c52f929cab4a3</td>\n",
       "      <td>002d4ea7c04739c130bb74d7e7cd16943</td>\n",
       "      <td>28694</td>\n",
       "      <td>0.08</td>\n",
       "      <td>210.0</td>\n",
       "      <td>1</td>\n",
       "      <td>4</td>\n",
       "      <td>2018-12-05</td>\n",
       "      <td>Iron Man</td>\n",
       "      <td>G</td>\n",
       "      <td>Curitiba</td>\n",
       "      <td>PR</td>\n",
       "      <td>1982-10-22</td>\n",
       "      <td>Homem</td>\n",
       "      <td>Curitiba</td>\n",
       "      <td>PR</td>\n",
       "    </tr>\n",
       "    <tr>\n",
       "      <th>32750</th>\n",
       "      <td>db9a034f34174edd577b9f64cc982952</td>\n",
       "      <td>001795ec6f1b187d37335e1c4704762e3</td>\n",
       "      <td>28694</td>\n",
       "      <td>0.08</td>\n",
       "      <td>148.4</td>\n",
       "      <td>1</td>\n",
       "      <td>4</td>\n",
       "      <td>2019-08-01</td>\n",
       "      <td>Mulher-Maravilha</td>\n",
       "      <td>G</td>\n",
       "      <td>Curitiba</td>\n",
       "      <td>PR</td>\n",
       "      <td>1982-10-22</td>\n",
       "      <td>Homem</td>\n",
       "      <td>Curitiba</td>\n",
       "      <td>PR</td>\n",
       "    </tr>\n",
       "    <tr>\n",
       "      <th>32751</th>\n",
       "      <td>ee00fa5093eb96d8573403b382fb60a8</td>\n",
       "      <td>002ec297b1b00fb9dde7ee6ac24b67713</td>\n",
       "      <td>28694</td>\n",
       "      <td>0.10</td>\n",
       "      <td>218.4</td>\n",
       "      <td>2</td>\n",
       "      <td>4</td>\n",
       "      <td>2019-11-25</td>\n",
       "      <td>Bazinga</td>\n",
       "      <td>G</td>\n",
       "      <td>Curitiba</td>\n",
       "      <td>PR</td>\n",
       "      <td>1982-10-22</td>\n",
       "      <td>Homem</td>\n",
       "      <td>Curitiba</td>\n",
       "      <td>PR</td>\n",
       "    </tr>\n",
       "    <tr>\n",
       "      <th>32752</th>\n",
       "      <td>56c87d433bb46c7862e35e791b1907fa</td>\n",
       "      <td>0009406fd7479715e4bef61dd91f24622</td>\n",
       "      <td>28695</td>\n",
       "      <td>0.10</td>\n",
       "      <td>254.8</td>\n",
       "      <td>1</td>\n",
       "      <td>4</td>\n",
       "      <td>2018-07-04</td>\n",
       "      <td>Deadpool</td>\n",
       "      <td>M</td>\n",
       "      <td>Curitiba</td>\n",
       "      <td>PR</td>\n",
       "      <td>1961-10-24</td>\n",
       "      <td>Homem</td>\n",
       "      <td>Curitiba</td>\n",
       "      <td>PR</td>\n",
       "    </tr>\n",
       "  </tbody>\n",
       "</table>\n",
       "</div>"
      ],
      "text/plain": [
       "                                     id                          productid  \\\n",
       "32748  b155e2a8589d40bc9c0381ee48e3204f  002ec297b1b00fb9dde7ee6ac24b67712   \n",
       "32749  abb71d0110c4be1a1a0c52f929cab4a3  002d4ea7c04739c130bb74d7e7cd16943   \n",
       "32750  db9a034f34174edd577b9f64cc982952  001795ec6f1b187d37335e1c4704762e3   \n",
       "32751  ee00fa5093eb96d8573403b382fb60a8  002ec297b1b00fb9dde7ee6ac24b67713   \n",
       "32752  56c87d433bb46c7862e35e791b1907fa  0009406fd7479715e4bef61dd91f24622   \n",
       "\n",
       "      clientid  discount  unitprice  quantity storeid       date  \\\n",
       "32748    28694      0.08      218.4         1       4 2018-12-02   \n",
       "32749    28694      0.08      210.0         1       4 2018-12-05   \n",
       "32750    28694      0.08      148.4         1       4 2019-08-01   \n",
       "32751    28694      0.10      218.4         2       4 2019-11-25   \n",
       "32752    28695      0.10      254.8         1       4 2018-07-04   \n",
       "\n",
       "           name_product size_product city_client state_client  \\\n",
       "32748           Bazinga            M    Curitiba           PR   \n",
       "32749          Iron Man            G    Curitiba           PR   \n",
       "32750  Mulher-Maravilha            G    Curitiba           PR   \n",
       "32751           Bazinga            G    Curitiba           PR   \n",
       "32752          Deadpool            M    Curitiba           PR   \n",
       "\n",
       "      dateofbirth_client sex_client name_store state_store  \n",
       "32748         1982-10-22      Homem   Curitiba          PR  \n",
       "32749         1982-10-22      Homem   Curitiba          PR  \n",
       "32750         1982-10-22      Homem   Curitiba          PR  \n",
       "32751         1982-10-22      Homem   Curitiba          PR  \n",
       "32752         1961-10-24      Homem   Curitiba          PR  "
      ]
     },
     "execution_count": 5,
     "metadata": {},
     "output_type": "execute_result"
    }
   ],
   "source": [
    "df.tail(5)"
   ]
  },
  {
   "attachments": {},
   "cell_type": "markdown",
   "metadata": {},
   "source": [
    "### EDA"
   ]
  },
  {
   "cell_type": "code",
   "execution_count": 6,
   "metadata": {},
   "outputs": [
    {
     "name": "stdout",
     "output_type": "stream",
     "text": [
      "<class 'pandas.core.frame.DataFrame'>\n",
      "Int64Index: 32753 entries, 0 to 32752\n",
      "Data columns (total 16 columns):\n",
      " #   Column              Non-Null Count  Dtype         \n",
      "---  ------              --------------  -----         \n",
      " 0   id                  32753 non-null  object        \n",
      " 1   productid           32753 non-null  object        \n",
      " 2   clientid            32753 non-null  object        \n",
      " 3   discount            32753 non-null  float64       \n",
      " 4   unitprice           32753 non-null  float64       \n",
      " 5   quantity            32753 non-null  int64         \n",
      " 6   storeid             32753 non-null  object        \n",
      " 7   date                32753 non-null  datetime64[ns]\n",
      " 8   name_product        32753 non-null  object        \n",
      " 9   size_product        32753 non-null  object        \n",
      " 10  city_client         32753 non-null  object        \n",
      " 11  state_client        32753 non-null  object        \n",
      " 12  dateofbirth_client  32753 non-null  datetime64[ns]\n",
      " 13  sex_client          32753 non-null  object        \n",
      " 14  name_store          32753 non-null  object        \n",
      " 15  state_store         32753 non-null  object        \n",
      "dtypes: datetime64[ns](2), float64(2), int64(1), object(11)\n",
      "memory usage: 4.2+ MB\n",
      "None\n"
     ]
    }
   ],
   "source": [
    "# Exibir informações sobre as variáveis\n",
    "print(df.info())"
   ]
  },
  {
   "cell_type": "code",
   "execution_count": 7,
   "metadata": {},
   "outputs": [
    {
     "name": "stdout",
     "output_type": "stream",
     "text": [
      "\u001b[1;34mChecking missing values per variable:\u001b[0;0m\n"
     ]
    },
    {
     "data": {
      "text/html": [
       "<div>\n",
       "<style scoped>\n",
       "    .dataframe tbody tr th:only-of-type {\n",
       "        vertical-align: middle;\n",
       "    }\n",
       "\n",
       "    .dataframe tbody tr th {\n",
       "        vertical-align: top;\n",
       "    }\n",
       "\n",
       "    .dataframe thead th {\n",
       "        text-align: right;\n",
       "    }\n",
       "</style>\n",
       "<table border=\"1\" class=\"dataframe\">\n",
       "  <thead>\n",
       "    <tr style=\"text-align: right;\">\n",
       "      <th></th>\n",
       "      <th>variable</th>\n",
       "      <th>qty_missing</th>\n",
       "      <th>pct (%)</th>\n",
       "    </tr>\n",
       "  </thead>\n",
       "  <tbody>\n",
       "    <tr>\n",
       "      <th>0</th>\n",
       "      <td>id</td>\n",
       "      <td>0</td>\n",
       "      <td>0.0</td>\n",
       "    </tr>\n",
       "    <tr>\n",
       "      <th>1</th>\n",
       "      <td>productid</td>\n",
       "      <td>0</td>\n",
       "      <td>0.0</td>\n",
       "    </tr>\n",
       "    <tr>\n",
       "      <th>2</th>\n",
       "      <td>clientid</td>\n",
       "      <td>0</td>\n",
       "      <td>0.0</td>\n",
       "    </tr>\n",
       "    <tr>\n",
       "      <th>3</th>\n",
       "      <td>discount</td>\n",
       "      <td>0</td>\n",
       "      <td>0.0</td>\n",
       "    </tr>\n",
       "    <tr>\n",
       "      <th>4</th>\n",
       "      <td>unitprice</td>\n",
       "      <td>0</td>\n",
       "      <td>0.0</td>\n",
       "    </tr>\n",
       "    <tr>\n",
       "      <th>5</th>\n",
       "      <td>quantity</td>\n",
       "      <td>0</td>\n",
       "      <td>0.0</td>\n",
       "    </tr>\n",
       "    <tr>\n",
       "      <th>6</th>\n",
       "      <td>storeid</td>\n",
       "      <td>0</td>\n",
       "      <td>0.0</td>\n",
       "    </tr>\n",
       "    <tr>\n",
       "      <th>7</th>\n",
       "      <td>date</td>\n",
       "      <td>0</td>\n",
       "      <td>0.0</td>\n",
       "    </tr>\n",
       "    <tr>\n",
       "      <th>8</th>\n",
       "      <td>name_product</td>\n",
       "      <td>0</td>\n",
       "      <td>0.0</td>\n",
       "    </tr>\n",
       "    <tr>\n",
       "      <th>9</th>\n",
       "      <td>size_product</td>\n",
       "      <td>0</td>\n",
       "      <td>0.0</td>\n",
       "    </tr>\n",
       "    <tr>\n",
       "      <th>10</th>\n",
       "      <td>city_client</td>\n",
       "      <td>0</td>\n",
       "      <td>0.0</td>\n",
       "    </tr>\n",
       "    <tr>\n",
       "      <th>11</th>\n",
       "      <td>state_client</td>\n",
       "      <td>0</td>\n",
       "      <td>0.0</td>\n",
       "    </tr>\n",
       "    <tr>\n",
       "      <th>12</th>\n",
       "      <td>dateofbirth_client</td>\n",
       "      <td>0</td>\n",
       "      <td>0.0</td>\n",
       "    </tr>\n",
       "    <tr>\n",
       "      <th>13</th>\n",
       "      <td>sex_client</td>\n",
       "      <td>0</td>\n",
       "      <td>0.0</td>\n",
       "    </tr>\n",
       "    <tr>\n",
       "      <th>14</th>\n",
       "      <td>name_store</td>\n",
       "      <td>0</td>\n",
       "      <td>0.0</td>\n",
       "    </tr>\n",
       "    <tr>\n",
       "      <th>15</th>\n",
       "      <td>state_store</td>\n",
       "      <td>0</td>\n",
       "      <td>0.0</td>\n",
       "    </tr>\n",
       "  </tbody>\n",
       "</table>\n",
       "</div>"
      ],
      "text/plain": [
       "              variable  qty_missing  pct (%)\n",
       "0                   id            0      0.0\n",
       "1            productid            0      0.0\n",
       "2             clientid            0      0.0\n",
       "3             discount            0      0.0\n",
       "4            unitprice            0      0.0\n",
       "5             quantity            0      0.0\n",
       "6              storeid            0      0.0\n",
       "7                 date            0      0.0\n",
       "8         name_product            0      0.0\n",
       "9         size_product            0      0.0\n",
       "10         city_client            0      0.0\n",
       "11        state_client            0      0.0\n",
       "12  dateofbirth_client            0      0.0\n",
       "13          sex_client            0      0.0\n",
       "14          name_store            0      0.0\n",
       "15         state_store            0      0.0"
      ]
     },
     "execution_count": 7,
     "metadata": {},
     "output_type": "execute_result"
    }
   ],
   "source": [
    "# Verificar a presença de valores ausentes\n",
    "exp.looking_missings(dataset=df)"
   ]
  },
  {
   "cell_type": "code",
   "execution_count": 8,
   "metadata": {},
   "outputs": [
    {
     "name": "stdout",
     "output_type": "stream",
     "text": [
      "           discount     unitprice      quantity\n",
      "count  32753.000000  32753.000000  32753.000000\n",
      "mean       0.093012    221.644967      1.058651\n",
      "std        0.009536    112.535304      0.239606\n",
      "min        0.080000    114.800000      1.000000\n",
      "25%        0.080000    161.000000      1.000000\n",
      "50%        0.100000    204.400000      1.000000\n",
      "75%        0.100000    233.800000      1.000000\n",
      "max        0.100000    686.000000      3.000000\n"
     ]
    }
   ],
   "source": [
    "# Descrever estatisticamente as variáveis numéricas\n",
    "print(df.describe())"
   ]
  },
  {
   "cell_type": "code",
   "execution_count": 9,
   "metadata": {},
   "outputs": [
    {
     "data": {
      "image/png": "[encoded data removed]",
      "text/plain": [
       "<Figure size 2000x300 with 1 Axes>"
      ]
     },
     "metadata": {},
     "output_type": "display_data"
    }
   ],
   "source": [
    "# Descrever estatisticamente as variáveis numéricas em um gráfico\n",
    "eda.get_view_describe(df, df.select_dtypes(include=['int', 'float']).columns)"
   ]
  },
  {
   "cell_type": "code",
   "execution_count": 10,
   "metadata": {},
   "outputs": [
    {
     "name": "stdout",
     "output_type": "stream",
     "text": [
      "No data duplicated\n"
     ]
    }
   ],
   "source": [
    "# Valores duplicados\n",
    "if len(df) == len(df.drop_duplicates()):\n",
    "    print('No data duplicated')\n",
    "else:\n",
    "    print(len(df) - len(df.drop_duplicates()))"
   ]
  },
  {
   "attachments": {},
   "cell_type": "markdown",
   "metadata": {},
   "source": [
    "### Análise univariada\n",
    "Analisando cada variável separadamente."
   ]
  },
  {
   "attachments": {},
   "cell_type": "markdown",
   "metadata": {},
   "source": [
    "#### Transactions"
   ]
  },
  {
   "attachments": {},
   "cell_type": "markdown",
   "metadata": {},
   "source": [
    "##### id"
   ]
  },
  {
   "cell_type": "code",
   "execution_count": 11,
   "metadata": {},
   "outputs": [
    {
     "name": "stdout",
     "output_type": "stream",
     "text": [
      "Total de transações: 32753\n"
     ]
    }
   ],
   "source": [
    "print(f\"Total de transações: {len(df.id.drop_duplicates())}\")"
   ]
  },
  {
   "attachments": {},
   "cell_type": "markdown",
   "metadata": {},
   "source": [
    "##### productid"
   ]
  },
  {
   "cell_type": "code",
   "execution_count": 12,
   "metadata": {},
   "outputs": [
    {
     "name": "stdout",
     "output_type": "stream",
     "text": [
      "Total de produtos unicos: 73\n"
     ]
    }
   ],
   "source": [
    "print(f\"Total de produtos unicos: {len(df.productid.drop_duplicates())}\")"
   ]
  },
  {
   "cell_type": "code",
   "execution_count": 13,
   "metadata": {},
   "outputs": [
    {
     "name": "stdout",
     "output_type": "stream",
     "text": [
      "top 5 produtos mais vendidos:\n",
      "002ec297b1b00fb9dde7ee6ac24b67713    966\n",
      "002d4ea7c04739c130bb74d7e7cd16943    963\n",
      "001c5d71ac6ad696d22315953758fa043    944\n",
      "0011c512eb256aa0dbbb544d8dffcf6e3    940\n",
      "0030026a6ddb3b2d1d4bc225b4b4c4da3    939\n",
      "Name: productid, dtype: int64\n"
     ]
    }
   ],
   "source": [
    "print(f\"top 5 produtos mais vendidos:\\n{df.productid.value_counts().sort_values(ascending=False).head(5)}\")"
   ]
  },
  {
   "cell_type": "code",
   "execution_count": 14,
   "metadata": {},
   "outputs": [
    {
     "name": "stdout",
     "output_type": "stream",
     "text": [
      "top 5 produtos menos vendidos:\n",
      "001b237c0e9bb435f2e54071129237e92    197\n",
      "002552c0663708129c0019cc97552d7d2    200\n",
      "002ec297b1b00fb9dde7ee6ac24b67711    202\n",
      "00210e41887c2a8ef9f791ebc780cc362    204\n",
      "00088930e925c41fd95ebfe695fd26552    205\n",
      "Name: productid, dtype: int64\n"
     ]
    }
   ],
   "source": [
    "print(f\"top 5 produtos menos vendidos:\\n{df.productid.value_counts().sort_values().head(5)}\")"
   ]
  },
  {
   "cell_type": "code",
   "execution_count": 21,
   "metadata": {},
   "outputs": [
    {
     "data": {
      "image/png": "[encoded data removed]",
      "text/plain": [
       "<Figure size 2000x300 with 1 Axes>"
      ]
     },
     "metadata": {},
     "output_type": "display_data"
    }
   ],
   "source": [
    "df_count_product = pd.DataFrame({'productid': df.productid.value_counts().index, \n",
    "              'value': df.productid.value_counts(normalize=True).values})#.describe()\n",
    "\n",
    "df_count_product['pct'] = round(df_count_product['value'] * 100, 2)\n",
    "\n",
    "eda.get_bar_plot(df_count_product, x='productid', y='pct',best=30, title='Contagem de transações por produto (%)')"
   ]
  },
  {
   "cell_type": "code",
   "execution_count": 29,
   "metadata": {},
   "outputs": [
    {
     "data": {
      "image/png": "[encoded data removed]",
      "text/plain": [
       "<Figure size 2000x300 with 1 Axes>"
      ]
     },
     "metadata": {},
     "output_type": "display_data"
    }
   ],
   "source": [
    "import seaborn as sns\n",
    "sns.histplot(data=df['productid'].value_counts(normalize=True).mul(100), bins=73)\n",
    "plt.title('Distribuição relativa de todos os produtos')\n",
    "plt.xlabel('')\n",
    "plt.ylabel('')\n",
    "plt.show()"
   ]
  },
  {
   "attachments": {},
   "cell_type": "markdown",
   "metadata": {},
   "source": []
  },
  {
   "attachments": {},
   "cell_type": "markdown",
   "metadata": {},
   "source": [
    "##### clientid"
   ]
  },
  {
   "attachments": {},
   "cell_type": "markdown",
   "metadata": {},
   "source": [
    "##### discount"
   ]
  },
  {
   "attachments": {},
   "cell_type": "markdown",
   "metadata": {},
   "source": [
    "##### unitprice"
   ]
  },
  {
   "attachments": {},
   "cell_type": "markdown",
   "metadata": {},
   "source": [
    "##### quantity"
   ]
  },
  {
   "attachments": {},
   "cell_type": "markdown",
   "metadata": {},
   "source": [
    "##### storeid"
   ]
  },
  {
   "attachments": {},
   "cell_type": "markdown",
   "metadata": {},
   "source": [
    "##### date"
   ]
  },
  {
   "attachments": {},
   "cell_type": "markdown",
   "metadata": {},
   "source": [
    "#### Product"
   ]
  },
  {
   "attachments": {},
   "cell_type": "markdown",
   "metadata": {},
   "source": [
    "#### Client"
   ]
  },
  {
   "attachments": {},
   "cell_type": "markdown",
   "metadata": {},
   "source": [
    "#### Store"
   ]
  }
 ],
 "metadata": {
  "kernelspec": {
   "display_name": "bixtecnologia",
   "language": "python",
   "name": "python3"
  },
  "language_info": {
   "codemirror_mode": {
    "name": "ipython",
    "version": 3
   },
   "file_extension": ".py",
   "mimetype": "text/x-python",
   "name": "python",
   "nbconvert_exporter": "python",
   "pygments_lexer": "ipython3",
   "version": "3.9.16"
  },
  "orig_nbformat": 4
 },
 "nbformat": 4,
 "nbformat_minor": 2
}
